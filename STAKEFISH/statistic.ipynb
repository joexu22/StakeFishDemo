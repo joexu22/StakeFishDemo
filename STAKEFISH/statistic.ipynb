{
 "metadata": {
  "language_info": {
   "codemirror_mode": {
    "name": "ipython",
    "version": 3
   },
   "file_extension": ".py",
   "mimetype": "text/x-python",
   "name": "python",
   "nbconvert_exporter": "python",
   "pygments_lexer": "ipython3",
   "version": "3.8.5"
  },
  "orig_nbformat": 2,
  "kernelspec": {
   "name": "python385jvsc74a57bd0cec60195f8e5eda9a02263f7bafca4558fbc02993733de8c48a7824ece104a7a",
   "display_name": "Python 3.8.5 64-bit ('base': conda)"
  }
 },
 "nbformat": 4,
 "nbformat_minor": 2,
 "cells": [
  {
   "source": [
    "This problem can potentially be modeled using a Poisson process...\n",
    "\n",
    "e.g. if the block time is independent of each other and of time (this may not neccessary be true, but it becomes much harder to model), then you can assume a Poisson process with a stable rate of, say $\\lambda$ per hour.\n",
    "The Poisson distribution tells you that the probability of no blocks being discovered in 10 minutes is\n",
    "\n",
    "$P(X=0)=\\frac{\\lambda^0e^{-\\lambda}}{0!}=e^{-\\lambda}$\n",
    "\n",
    "We can also model the likelyhood of a successful block to be an exponential distribution. We would take the integral of the distribution from time_0 to time_1 (the event):\n",
    "\n",
    "$(1-\\frac{1}{e}) \\approx 0.63212\\%$\n",
    "\n",
    "If this probability is equal to $(1-\\frac{1}{e})$ then you can deduce the rate $\\lambda$ as follows:\n",
    "\n",
    "$e^{-\\lambda} = (1-\\frac{1}{e}) \\rightarrow \\lambda = -\\ln(1-\\frac{1}{e}) = -\\ln(\\frac{e-1}{e})= \\ln(\\frac{e}{e-1}) \\approx 0.45867$ block per 10 minutes.\n",
    "\n",
    "If one is interested in what happens over $x$ minutes, then the expected number of blocks will be $x\\ln(\\frac{e}{e-1})/10$ and the probablity of detecting (i.e, at least one block over $t$ minutes) will be\n",
    "\n",
    "$P(X\\geq1)=1-P(X=0) = 1 - \\frac{(t\\ln(\\frac{e}{e-1})/10)^0e^{-t(\\ln(\\frac{e}{e-1}))/10}}{0!} = e^{-t(\\ln(\\frac{e}{e-1}))/10}$\n",
    "\n",
    "For a 1-minutes interval, this is\n",
    "\n",
    "$1 - e^{-(\\ln(\\frac{e}{e-1}))/10} \\approx 0.04483$\n",
    "\n",
    "and for a 10-minute interval\n",
    "\n",
    "$1 - e^{-60(\\ln(\\frac{e}{e-1}))/10} \\approx 0.36788$ (expected)\n",
    "\n",
    "and for a 60-minute interval\n",
    "\n",
    "$1 - e^{-90(\\ln(\\frac{e}{e-1}))/10} \\approx 0.93620$\n",
    "\n",
    "and for a 120-minute interval\n",
    "\n",
    "$1 - e^{-120(\\ln(\\frac{e}{e-1})4)/10} \\approx 0.99593$\n",
    "\n",
    "Taking the inverse again, we could have .00407 or 0.407%\n",
    "\n",
    "In conclusion: We should expect to see blocks mined 2 hours apart at a measly .4% clip\n",
    "\n",
    "** Disclaimer: The last time I did an analysis like this was 6 years ago in a graduate level astronomy class sampling photon hits on telescope readings, of which I only got a B+ in, my math may be completely be off here... "
   ],
   "cell_type": "markdown",
   "metadata": {}
  },
  {
   "source": [
    "Citations:\n",
    "\n",
    "Cyril Grunspan, Ricardo Pérez-Marco. \"The mathematics of Bitcoin\", https://hal.archives-ouvertes.fr/hal-02486029/document\n",
    "\n",
    "Barbara Illowsky, Susan Dean. \"The Exponential Distribution\", https://stats.libretexts.org/Bookshelves/Introductory_Statistics/Book%3A_Introductory_Statistics_(OpenStax)/05%3A_Continuous_Random_Variables/5.04%3A_The_Exponential_Distribution\n",
    "\n",
    "Felix Weis, \"Probablity Distribution of mining\", https://bitcoin.stackexchange.com/a/43592\n",
    "\n",
    "Stat Trek. \"Teach Yourself Statistics\", https://stattrek.com/probability-distributions/poisson.aspx\n",
    "\n",
    "R. Bowden∗, H.P. Keeler∗, A.E. Krzesinski† and P.G. Taylor∗. \"Block arrivals in the Bitcoin blockchain\", https://arxiv.org/pdf/1801.07447.pdf\n",
    "\n",
    "A.G. \"Probability of an event occurring within a smaller time interval if one knows the probability of occurrence over a larger time interval\", https://math.stackexchange.com/a/2480877\n",
    "\n",
    "Tamas Blummer. \"Measuring Time with chain of blocks\", https://medium.com/@tamas.blummer/measuring-time-with-chain-of-blocks-893a38cc06bb\n",
    "\n",
    "dinofelis. \"Re: The chances of finding a block in LESS than 10 minutes ?\" https://bitcointalk.org/index.php?topic=1914025.0\n",
    "\n",
    "H. Pishro-Nik. \"Basic Concepts of the Poisson Process\", https://www.probabilitycourse.com/chapter11/11_1_2_basic_concepts_of_the_poisson_process.php"
   ],
   "cell_type": "markdown",
   "metadata": {}
  }
 ]
}